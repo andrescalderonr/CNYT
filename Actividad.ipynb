{
 "cells": [
  {
   "cell_type": "markdown",
   "metadata": {},
   "source": [
    "# Simule el primer sistema cuantico descrito en la seccion 4.1.\n",
    "## 1. El sistema debe calcular la probabilidad de encontrarlo en una posición en particular."
   ]
  },
  {
   "cell_type": "code",
   "execution_count": 2,
   "metadata": {},
   "outputs": [
    {
     "name": "stdout",
     "output_type": "stream",
     "text": [
      "[0.52631579] En: [-3.-1.j]\n",
      "[0.21052632] En: [-0.-2.j]\n",
      "[0.05263158] En: [0.+1.j]\n",
      "[0.21052632] En: [2.+0.j]\n"
     ]
    },
    {
     "name": "stderr",
     "output_type": "stream",
     "text": [
      "C:\\Users\\LENOVO\\AppData\\Local\\Temp\\ipykernel_16240\\2334856496.py:7: DeprecationWarning: Conversion of an array with ndim > 0 to a scalar is deprecated, and will error in future. Ensure you extract a single element from your array before performing this operation. (Deprecated NumPy 1.25.)\n",
      "  norm = math.sqrt(divisor)\n"
     ]
    }
   ],
   "source": [
    "import numpy as np\n",
    "import math\n",
    "initial_vector = np.array([[-3-1j],[-2j],[1j],[2]])\n",
    "divisor = 0\n",
    "for i in initial_vector:\n",
    "    divisor+=abs(i)**2\n",
    "norm = math.sqrt(divisor)\n",
    "for j in initial_vector:\n",
    "    prob= abs(j)**2 / norm**2\n",
    "    print(prob,'En:',j)\n",
    "\n"
   ]
  },
  {
   "cell_type": "markdown",
   "metadata": {},
   "source": [
    "## 2. El sistema si se le da otro vector Ket debe buscar la probabilidad de transitar del primer vector al segundo."
   ]
  },
  {
   "cell_type": "code",
   "execution_count": 3,
   "metadata": {},
   "outputs": [
    {
     "name": "stdout",
     "output_type": "stream",
     "text": [
      "-0.9999999999999998j\n",
      "0.9999999999999996\n"
     ]
    }
   ],
   "source": [
    "initial = np.array([[1],[-1j]])\n",
    "final = np.array([[1j],[1]])\n",
    "complex_internal_product_vector = np.vdot(final, initial)\n",
    "norm_initial = np.linalg.norm(initial)\n",
    "norm_final = np.linalg.norm(final)\n",
    "amplitude = complex_internal_product_vector/ (norm_initial*norm_final)\n",
    "probability = np.abs(amplitude)**2\n",
    "print(amplitude)\n",
    "print(probability)\n"
   ]
  },
  {
   "cell_type": "markdown",
   "metadata": {},
   "source": [
    "# Complete los retos de programación del capítulo 4.\n",
    "## 1. Amplitud de transición. El sistema puede recibir dos vectores y calcular la probabilidad de transitar de el uno al otro después de hacer la observación\n",
    "\n"
   ]
  },
  {
   "cell_type": "code",
   "execution_count": 4,
   "metadata": {},
   "outputs": [
    {
     "name": "stdout",
     "output_type": "stream",
     "text": [
      "-0.9999999999999998j\n",
      "0.9999999999999996\n"
     ]
    }
   ],
   "source": [
    "initial = np.array([[1],[-1j]])\n",
    "final = np.array([[1j],[1]])\n",
    "complex_internal_product_vector = np.vdot(final, initial)\n",
    "norm_initial = np.linalg.norm(initial)\n",
    "norm_final = np.linalg.norm(final)\n",
    "amplitude = complex_internal_product_vector/ (norm_initial*norm_final)\n",
    "probability = np.abs(amplitude)**2\n",
    "print(amplitude)\n",
    "print(probability)\n"
   ]
  },
  {
   "cell_type": "markdown",
   "metadata": {},
   "source": [
    "## 2. Ahora con una matriz que describa un observable y un vector ket, el sistema revisa que la matriz sea hermitiana, y si lo es, calcula la media y la varianza del observable en el estado dado.\n",
    "\n"
   ]
  },
  {
   "cell_type": "code",
   "execution_count": 5,
   "metadata": {},
   "outputs": [
    {
     "name": "stdout",
     "output_type": "stream",
     "text": [
      "Es hermtiana\n",
      "La media es: (2.5000000000000004+0j)\n",
      "(0.25+0j)\n"
     ]
    }
   ],
   "source": [
    "matrix = np.array([[1,-1j],[1j,2]])\n",
    "ket = np.array([[math.sqrt(2)/2],[(math.sqrt(2)/2)*1j]])\n",
    "hermitian = matrix.conj().T\n",
    "if np.allclose(matrix, hermitian):\n",
    "    print(\"Es hermtiana\")\n",
    "    mult = np.dot(matrix,ket)\n",
    "    mult2 = np.vdot(mult,ket)\n",
    "    print(\"La media es:\",mult2)\n",
    "    m = np.array([[mult2,0],[0,mult2]])\n",
    "    resta = matrix - m\n",
    "    multi2 = np.dot(resta,resta)\n",
    "    final1 = np.dot(multi2,ket)\n",
    "    final2 = np.vdot(ket,final1)\n",
    "    print(final2)\n",
    "else:\n",
    "    print(\"La matriz no es hermitiana\")"
   ]
  },
  {
   "cell_type": "markdown",
   "metadata": {},
   "source": [
    "## 3. El sistema calcula los valores propios del observable y la probabilidad de que el sistema transite a alguno de los vectores propios después de la observación."
   ]
  },
  {
   "cell_type": "code",
   "execution_count": 6,
   "metadata": {},
   "outputs": [
    {
     "name": "stdout",
     "output_type": "stream",
     "text": [
      "Es hermtiana\n",
      "Valores propios: [0.38196601+0.j 2.61803399+0.j]\n",
      "Probabilidad de transitar al vector propio 1: 0.052786404500042135\n",
      "Probabilidad de transitar al vector propio 2: 0.9472135954999582\n"
     ]
    }
   ],
   "source": [
    "matrix = np.array([[1,-1j],[1j,2]])\n",
    "ket = np.array([[math.sqrt(2)/2],[(math.sqrt(2)/2)*1j]])\n",
    "hermitian = matrix.conj().T\n",
    "if np.allclose(matrix, hermitian):\n",
    "    print(\"Es hermtiana\")\n",
    "    valores_propios,vectores_propios = np.linalg.eig(matrix)\n",
    "    print(\"Valores propios:\",valores_propios)\n",
    "    for i in range(len(valores_propios)):\n",
    "        vector_propio = vectores_propios[:, i].reshape(-1, 1)  \n",
    "        probabilidad = np.abs(np.vdot(ket, vector_propio))**2\n",
    "        print(f\"Probabilidad de transitar al vector propio {i + 1}: {probabilidad}\")\n",
    "else:\n",
    "    print(\"No es hermitiana\")"
   ]
  },
  {
   "cell_type": "markdown",
   "metadata": {},
   "source": [
    "## 4. Se considera la dinámica del sistema. Ahora con una serie de matrices Un el sistema calcula el estado final a partir de un estado inicial.\n",
    "\n"
   ]
  },
  {
   "cell_type": "code",
   "execution_count": 7,
   "metadata": {},
   "outputs": [
    {
     "name": "stdout",
     "output_type": "stream",
     "text": [
      "Estado final:\n",
      "[[7.07106781e-01+0.j        ]\n",
      " [4.32978028e-17+0.70710678j]]\n"
     ]
    }
   ],
   "source": [
    "estado_inicial = np.array([[1], [0]])  \n",
    "\n",
    "U1 = np.array([[np.cos(np.pi/4), -np.sin(np.pi/4)], [np.sin(np.pi/4), np.cos(np.pi/4)]])  \n",
    "U2 = np.array([[1, 0], [0, np.exp(1j * np.pi / 2)]])  \n",
    "\n",
    "matrices_U = [U1, U2]\n",
    "\n",
    "estado_final = estado_inicial\n",
    "for U in matrices_U:\n",
    "    estado_final = np.dot(U, estado_final)\n",
    "\n",
    "print(\"Estado final:\")\n",
    "print(estado_final)"
   ]
  },
  {
   "cell_type": "markdown",
   "metadata": {},
   "source": [
    "# Realice los siguientes problemas e incluyalos como ejemplos\n"
   ]
  },
  {
   "cell_type": "markdown",
   "metadata": {},
   "source": [
    "## 4.3.1: when the user enters an observable and a state vector, the program will return the list of eigenvalues of the observable, the mean value of the observable on the state, and the probability that the state will transition to each one of the eigenstat"
   ]
  },
  {
   "cell_type": "code",
   "execution_count": 13,
   "metadata": {},
   "outputs": [
    {
     "name": "stdout",
     "output_type": "stream",
     "text": [
      "Vectores propios: [0.38196601+0.j 2.61803399+0.j]\n",
      "Media: (0.4999999999999999+0j)\n",
      "Probabilidad: [0.3618034 0.1381966]\n"
     ]
    }
   ],
   "source": [
    "observable = np.array([[1, 1j],[-1j, 2]])\n",
    "ket = np.array([[(1/math.sqrt(2))*1j],[0]])\n",
    "eigenvalues, eigenvectors = np.linalg.eig(observable)\n",
    "n = np.dot(observable,ket)\n",
    "v = np.vdot(ket,n)\n",
    "probabilities = np.array([np.abs(np.vdot(o, ket))**2 for o in eigenvectors.T])\n",
    "print(\"Vectores propios:\",eigenvalues)\n",
    "print(\"Media:\",v)\n",
    "print(\"Probabilidad:\",probabilities)"
   ]
  },
  {
   "cell_type": "markdown",
   "metadata": {},
   "source": [
    "# 4.4.1 "
   ]
  },
  {
   "cell_type": "code",
   "execution_count": 17,
   "metadata": {},
   "outputs": [
    {
     "name": "stdout",
     "output_type": "stream",
     "text": [
      "El vector de estado final es: [[0.-1.j]\n",
      " [0.+0.j]]\n"
     ]
    }
   ],
   "source": [
    "n = int(input(\"Ingrese el número de pasos de tiempo: \"))\n",
    "unitary_matrix = []\n",
    "\n",
    "for i in range(n):\n",
    "    matrix_input = input(f\"Ingrese la matriz unitaria U_{i+1}: \")\n",
    "    U = np.array(eval(matrix_input), dtype=complex)\n",
    "    unitary_matrix.append(U)\n",
    "\n",
    "initial_state_input = input(\"Ingrese el vector de estado inicial: \")\n",
    "initial_state = np.array(eval(initial_state_input), dtype=complex)\n",
    "\n",
    "final_state = initial_state\n",
    "for U in unitary_matrix:\n",
    "    final_state = np.dot(U,final_state)\n",
    "\n",
    "\n",
    "print(\"El vector de estado final es:\", final_state)\n",
    "#Ejemplo usado:\n",
    "# n = 2\n",
    "#matrix_input 1 = [[0, 1], [1, 0]]\n",
    "#matrix input 2 = [[0, -1j], [1j, 0]]\n",
    "#vector = [[1], [0]]"
   ]
  },
  {
   "cell_type": "code",
   "execution_count": null,
   "metadata": {},
   "outputs": [],
   "source": []
  }
 ],
 "metadata": {
  "kernelspec": {
   "display_name": "Python 3",
   "language": "python",
   "name": "python3"
  },
  "language_info": {
   "codemirror_mode": {
    "name": "ipython",
    "version": 3
   },
   "file_extension": ".py",
   "mimetype": "text/x-python",
   "name": "python",
   "nbconvert_exporter": "python",
   "pygments_lexer": "ipython3",
   "version": "3.11.9"
  }
 },
 "nbformat": 4,
 "nbformat_minor": 2
}
